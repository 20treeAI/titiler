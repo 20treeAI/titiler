{
 "cells": [
  {
   "cell_type": "markdown",
   "metadata": {},
   "source": [
    "### Working With STAC\n",
    "\n",
    "\n",
    "\n",
    "###### Requirements\n",
    "- rasterio\n",
    "- mapboxgl + TOKEN\n",
    "- requests\n",
    "\n",
    "`pip install rasterio mapboxgl requests`"
   ]
  },
  {
   "cell_type": "code",
   "execution_count": null,
   "metadata": {},
   "outputs": [],
   "source": [
    "import os\n",
    "import json\n",
    "import base64\n",
    "import requests\n",
    "import datetime\n",
    "import itertools\n",
    "import urllib.parse\n",
    "\n",
    "from io import BytesIO\n",
    "from functools import partial\n",
    "from concurrent import futures\n",
    "from rasterio.plot import reshape_as_image\n",
    "\n",
    "from rasterio.features import bounds as featureBounds\n",
    "\n",
    "from mapboxgl.utils import *\n",
    "from mapboxgl.viz import *\n",
    "\n",
    "%pylab inline\n",
    "\n",
    "token = os.environ[\"MAPBOX_ACCESS_TOKEN\"]\n",
    "\n",
    "titiler_endpoint = \"https://dfu60xgk3j.execute-api.us-east-1.amazonaws.com/\"  # Devseed temporary endpoint\n",
    "stac_endpoint = \"https://earth-search.aws.element84.com/v0/search\""
   ]
  },
  {
   "cell_type": "markdown",
   "metadata": {},
   "source": [
    "#### AOI"
   ]
  },
  {
   "cell_type": "code",
   "execution_count": null,
   "metadata": {},
   "outputs": [],
   "source": [
    "# use geojson.io\n",
    "geojson = {\n",
    "  \"type\": \"FeatureCollection\",\n",
    "  \"features\": [\n",
    "    {\n",
    "      \"type\": \"Feature\",\n",
    "      \"properties\": {},\n",
    "      \"geometry\": {\n",
    "        \"type\": \"Polygon\",\n",
    "        \"coordinates\": [\n",
    "          [\n",
    "            [\n",
    "              30.810813903808594,\n",
    "              29.454247067148533\n",
    "            ],\n",
    "            [\n",
    "              30.88600158691406,\n",
    "              29.454247067148533\n",
    "            ],\n",
    "            [\n",
    "              30.88600158691406,\n",
    "              29.51879923863822\n",
    "            ],\n",
    "            [\n",
    "              30.810813903808594,\n",
    "              29.51879923863822\n",
    "            ],\n",
    "            [\n",
    "              30.810813903808594,\n",
    "              29.454247067148533\n",
    "            ]\n",
    "          ]\n",
    "        ]\n",
    "      }\n",
    "    }\n",
    "  ]\n",
    "}\n",
    "\n",
    "bounds = featureBounds(geojson)"
   ]
  },
  {
   "cell_type": "code",
   "execution_count": null,
   "metadata": {
    "scrolled": false
   },
   "outputs": [],
   "source": [
    "viz = LinestringViz(\n",
    "    geojson,\n",
    "    access_token=token,\n",
    "    line_width_default=2,\n",
    "    center=((bounds[0] + bounds[2]) / 2, (bounds[1] + bounds[3]) / 2),\n",
    "    zoom=11,\n",
    "    style=\"mapbox://styles/mapbox/satellite-v9?optimize=true\"\n",
    ")\n",
    "viz.show()"
   ]
  },
  {
   "cell_type": "markdown",
   "metadata": {},
   "source": [
    "## STAC Search"
   ]
  },
  {
   "cell_type": "code",
   "execution_count": null,
   "metadata": {
    "scrolled": false
   },
   "outputs": [],
   "source": [
    "date_min=\"2019-01-01\"\n",
    "date_max=\"2019-12-11\"\n",
    "\n",
    "start = datetime.datetime.strptime(date_min, \"%Y-%m-%d\").strftime(\"%Y-%m-%dT00:00:00Z\")\n",
    "end = datetime.datetime.strptime(date_max, \"%Y-%m-%d\").strftime(\"%Y-%m-%dT23:59:59Z\")\n",
    "\n",
    "query = {\n",
    "    \"collections\": [\"sentinel-s2-l2a-cogs\"],\n",
    "    \"datetime\": f\"{start}/{end}\",\n",
    "    \"query\": {\n",
    "        \"eo:cloud_cover\": {\n",
    "            \"lt\": 5\n",
    "        }\n",
    "    },\n",
    "    \"intersects\": geojson[\"features\"][0][\"geometry\"],\n",
    "    \"limit\": 1000,\n",
    "    \"fields\": {\n",
    "      'include': ['id', 'properties.datetime', 'properties.eo:cloud_cover'],\n",
    "      'exclude': ['assets', 'links']\n",
    "    }\n",
    "}\n",
    "\n",
    "headers = {\n",
    "    \"Content-Type\": \"application/json\",\n",
    "    \"Accept-Encoding\": \"gzip\",\n",
    "    \"Accept\": \"application/geo+json\",\n",
    "}\n",
    "\n",
    "\n",
    "data = requests.post(stac_endpoint, headers=headers, json=query).json()\n",
    "print(data[\"context\"])\n",
    "print()\n",
    "print(json.dumps(data[\"features\"][0], indent=4))\n",
    "\n",
    "sceneid = [f[\"id\"] for f in data[\"features\"]]\n",
    "cloudcover = [f[\"properties\"][\"eo:cloud_cover\"] for f in data[\"features\"]]\n",
    "dates = [f[\"properties\"][\"datetime\"][0:10] for f in data[\"features\"]]"
   ]
  },
  {
   "cell_type": "code",
   "execution_count": null,
   "metadata": {},
   "outputs": [],
   "source": [
    "fig = plt.figure(dpi=100)\n",
    "fig.autofmt_xdate()\n",
    "ax = fig.add_subplot(1, 1, 1)\n",
    "ax.plot(dates, cloudcover, label=\"Cloud Cover\", color=\"tab:red\", linewidth=0.4, linestyle=\"-.\")\n",
    "\n",
    "ax.legend()"
   ]
  },
  {
   "cell_type": "code",
   "execution_count": null,
   "metadata": {},
   "outputs": [],
   "source": [
    "viz = LinestringViz(\n",
    "    data,\n",
    "    access_token=token,\n",
    "    line_width_default=2,\n",
    "    center=((bounds[0] + bounds[2]) / 2, (bounds[1] + bounds[3]) / 2),\n",
    "    zoom=11,\n",
    "    style=\"mapbox://styles/mapbox/satellite-v9?optimize=true\"\n",
    ")\n",
    "viz.show()"
   ]
  },
  {
   "cell_type": "markdown",
   "metadata": {},
   "source": [
    "### DATA Endpoint\n",
    "\n",
    "https://dfu60xgk3j.execute-api.us-east-1.amazonaws.com/docs#/SpatioTemporal%20Asset%20Catalog\n",
    "\n",
    "`{endpoint}/stac/tiles/{z}/{x}/{y}.{format}?url={stac_item}&{otherquery params}`\n",
    "\n",
    "\n",
    "`{endpoint}/stac/crop/{minx},{miny},{maxx},{maxy}.{format}?url={stac_item}&{otherquery params}`\n",
    "\n",
    "\n",
    "`{endpoint}/stac/point/{minx},{miny}?url={stac_item}&{otherquery params}`\n"
   ]
  },
  {
   "cell_type": "code",
   "execution_count": null,
   "metadata": {},
   "outputs": [],
   "source": [
    "url_template = \"https://earth-search.aws.element84.com/v0/collections/sentinel-s2-l2a-cogs/items/{id}\""
   ]
  },
  {
   "cell_type": "markdown",
   "metadata": {},
   "source": [
    "### Visualize One Item"
   ]
  },
  {
   "cell_type": "code",
   "execution_count": null,
   "metadata": {
    "scrolled": false
   },
   "outputs": [],
   "source": [
    "\n",
    "r = requests.get(\n",
    "    f\"{titiler_endpoint}/stac/tilejson.json\",\n",
    "    params = {\n",
    "        \"url\": url_template.format(id=sceneid[0]),\n",
    "        \"assets\": \"B04,B03,B02\",  # Simple RGB\n",
    "        \"color_formula\": \"Gamma RGB 3.5 Saturation 1.7 Sigmoidal RGB 15 0.35\",\n",
    "        \"maxzoom\": 12,\n",
    "    }\n",
    ").json()\n",
    "print(r)\n",
    "\n",
    "viz = RasterTilesViz(\n",
    "    r[\"tiles\"][0] , \n",
    "    zoom=8,\n",
    "    access_token=token,\n",
    "    tiles_size=256,\n",
    "    tiles_bounds=r[\"bounds\"],\n",
    "    center=r[\"center\"],\n",
    "    tiles_minzoom=r[\"minzoom\"],\n",
    "    tiles_maxzoom=r[\"maxzoom\"],\n",
    ")\n",
    "viz.show()"
   ]
  },
  {
   "cell_type": "code",
   "execution_count": null,
   "metadata": {},
   "outputs": [],
   "source": [
    "r = requests.get(\n",
    "    f\"{titiler_endpoint}/stac/tilejson.json\",\n",
    "    params = {\n",
    "        \"url\": url_template.format(id=sceneid[0]),\n",
    "        \"assets\": \"B08,B04,B03\",  # False Color Infrared\n",
    "        \"color_formula\": \"Gamma RGB 3.5 Saturation 1.7 Sigmoidal RGB 15 0.35\",\n",
    "        \"maxzoom\": 14,\n",
    "    }\n",
    ").json()\n",
    "print(r)\n",
    "\n",
    "viz = RasterTilesViz(\n",
    "    r[\"tiles\"][0] , \n",
    "    zoom=8,\n",
    "    access_token=token,\n",
    "    tiles_size=256,\n",
    "    tiles_bounds=r[\"bounds\"],\n",
    "    center=r[\"center\"],\n",
    "    tiles_minzoom=r[\"minzoom\"],\n",
    "    tiles_maxzoom=r[\"maxzoom\"],\n",
    ")\n",
    "viz.show()"
   ]
  },
  {
   "cell_type": "code",
   "execution_count": null,
   "metadata": {
    "scrolled": false
   },
   "outputs": [],
   "source": [
    "r = requests.get(\n",
    "    f\"{titiler_endpoint}/stac/tilejson.json\",\n",
    "    params = {\n",
    "        \"url\": url_template.format(id=sceneid[0]),\n",
    "        \"expression\": \"(B08-B04)/(B08+B04)\",  # NDVI\n",
    "        \"rescale\": \"-1,1\",\n",
    "        \"maxzoom\": 12,\n",
    "        \"color_map\": \"viridis\",\n",
    "    }\n",
    ").json()\n",
    "print(r)\n",
    "\n",
    "viz = RasterTilesViz(\n",
    "    r[\"tiles\"][0] , \n",
    "    zoom=8,\n",
    "    access_token=token,\n",
    "    tiles_size=256,\n",
    "    tiles_bounds=r[\"bounds\"],\n",
    "    center=r[\"center\"],\n",
    "    tiles_minzoom=r[\"minzoom\"],\n",
    "    tiles_maxzoom=r[\"maxzoom\"],\n",
    ")\n",
    "viz.show()"
   ]
  },
  {
   "cell_type": "markdown",
   "metadata": {},
   "source": [
    "# More\n",
    "\n",
    "titiler doesn't return only png or jpeg but can also return Numpy array directly"
   ]
  },
  {
   "cell_type": "code",
   "execution_count": null,
   "metadata": {},
   "outputs": [],
   "source": [
    "def fetch_bbox_array(\n",
    "    sceneid, bbox, assets = None, expression = None, **kwargs,\n",
    "):\n",
    "    # STAC ITEM URL\n",
    "    stac_item = f\"https://earth-search.aws.element84.com/v0/collections/sentinel-s2-l2a-cogs/items/{sceneid}\"\n",
    "\n",
    "    xmin, ymin, xmax, ymax = bbox\n",
    "    \n",
    "    params = {\n",
    "        \"url\": stac_item\n",
    "    }\n",
    "    if assets:\n",
    "        params.update(dict(assets=\",\".join(assets)))\n",
    "    elif expression:\n",
    "        params.update(dict(expression=expression))\n",
    "    else:\n",
    "        raise Exception(\"Missing band or expression input\")\n",
    "\n",
    "    params.update(**kwargs)\n",
    "\n",
    "    # TITILER ENDPOINT\n",
    "    url = f\"{titiler_endpoint}stac/crop/{xmin},{ymin},{xmax},{ymax}.npy\"\n",
    "    r = requests.get(url, params=params)\n",
    "    data, mask = numpy.load(BytesIO(r.content), allow_pickle=True)\n",
    "\n",
    "    return sceneid, data, mask\n",
    "\n",
    "\n",
    "def _stats(data, mask):\n",
    "    arr = numpy.ma.array(data)\n",
    "    arr.mask = mask == 0\n",
    "    return arr.min().item(), arr.max().item(), arr.mean().item(), arr.std().item()"
   ]
  },
  {
   "cell_type": "code",
   "execution_count": null,
   "metadata": {},
   "outputs": [],
   "source": [
    "_, data, mask = fetch_bbox_array(sceneid[0], bounds, assets=[\"B02\"], max_size=128)\n",
    "\n",
    "print(data.shape)\n",
    "print(mask.shape)\n",
    "\n",
    "imshow(data[0])"
   ]
  },
  {
   "cell_type": "code",
   "execution_count": null,
   "metadata": {},
   "outputs": [],
   "source": [
    "bbox_worker = partial(\n",
    "    fetch_bbox_array,\n",
    "    bbox=bounds,\n",
    "    assets=(\"B04\", \"B03\", \"B02\"), \n",
    "    color_formula=\"gamma RGB 3.5, saturation 1.7, sigmoidal RGB 15 0.35\",\n",
    "    max_size=64\n",
    ")\n",
    "\n",
    "with futures.ThreadPoolExecutor() as executor:\n",
    "    results_rgb = list(executor.map(bbox_worker, sceneid))\n",
    "    \n",
    "fig = plt.figure(figsize=(10,20))\n",
    "col = 5\n",
    "row = math.ceil(len(dates) / col)\n",
    "for i in range(1, len(results_rgb) + 1):\n",
    "    fig.add_subplot(row, col, i)\n",
    "    plt.imshow(reshape_as_image(results_rgb[i-1][1]))"
   ]
  },
  {
   "cell_type": "code",
   "execution_count": null,
   "metadata": {},
   "outputs": [],
   "source": [
    "bbox_worker = partial(\n",
    "    fetch_bbox_array, bbox=bounds, expression=\"(B08-B04)/(B08+B04)\", max_size=64\n",
    ")\n",
    "with futures.ThreadPoolExecutor() as executor:\n",
    "    results_ndvi = list(executor.map(bbox_worker, sceneid))"
   ]
  },
  {
   "cell_type": "code",
   "execution_count": null,
   "metadata": {},
   "outputs": [],
   "source": [
    "fig = plt.figure(figsize=(10,20))\n",
    "col = 5\n",
    "row = math.ceil(len(dates) / col)\n",
    "for i in range(1, len(results_rgb) + 1):\n",
    "    fig.add_subplot(row, col, i)\n",
    "    plt.imshow(results_ndvi[i-1][1][0])"
   ]
  },
  {
   "cell_type": "code",
   "execution_count": null,
   "metadata": {},
   "outputs": [],
   "source": [
    "stats = [_stats(data, mask) for _, data, mask in results_ndvi]\n",
    "\n",
    "fig, ax1 = plt.subplots(dpi=150)\n",
    "fig.autofmt_xdate()\n",
    "\n",
    "ax1.plot(dates, [s[0] for s in stats], label=\"Min\")\n",
    "ax1.plot(dates, [s[1] for s in stats], label=\"Max\")\n",
    "ax1.plot(dates, [s[2] for s in stats], label=\"Mean\")\n",
    "ax1.set_xlabel(\"Dates\")\n",
    "ax1.set_ylabel(\"Normalized Difference Vegetation Index\")\n",
    "\n",
    "ax1.legend()"
   ]
  },
  {
   "cell_type": "code",
   "execution_count": null,
   "metadata": {},
   "outputs": [],
   "source": []
  }
 ],
 "metadata": {
  "kernelspec": {
   "display_name": "Python 3",
   "language": "python",
   "name": "python3"
  },
  "language_info": {
   "codemirror_mode": {
    "name": "ipython",
    "version": 3
   },
   "file_extension": ".py",
   "mimetype": "text/x-python",
   "name": "python",
   "nbconvert_exporter": "python",
   "pygments_lexer": "ipython3",
   "version": "3.7.4"
  }
 },
 "nbformat": 4,
 "nbformat_minor": 2
}
